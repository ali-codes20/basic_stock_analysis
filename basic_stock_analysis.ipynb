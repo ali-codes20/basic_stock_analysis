{
    "cells": [
        {
            "cell_type": "code",
            "execution_count": 1,
            "source": [
                "import seaborn as sns\n",
                "import numpy as np\n",
                "import pandas as pd\n",
                "import matplotlib.pyplot as plt"
            ],
            "outputs": [],
            "metadata": {}
        },
        {
            "cell_type": "code",
            "execution_count": 4,
            "source": [
                "df = pd.read_csv('AAPL.csv')\n",
                "print(df.head())"
            ],
            "outputs": [
                {
                    "output_type": "stream",
                    "name": "stdout",
                    "text": [
                        "         Date       Open       High        Low      Close  Adj Close  \\\n",
                        "0  2015-07-13  31.257500  31.440001  31.080000  31.415001  28.758560   \n",
                        "1  2015-07-14  31.510000  31.592501  31.260000  31.402500  28.747114   \n",
                        "2  2015-07-15  31.430000  31.787500  31.395000  31.705000  29.024040   \n",
                        "3  2015-07-16  31.934999  32.142502  31.837500  32.127499  29.410812   \n",
                        "4  2015-07-17  32.270000  32.404999  32.077499  32.404999  29.664848   \n",
                        "\n",
                        "      Volume  \n",
                        "0  165762000  \n",
                        "1  127072400  \n",
                        "2  134596800  \n",
                        "3  144889600  \n",
                        "4  184658800  \n"
                    ]
                }
            ],
            "metadata": {}
        },
        {
            "cell_type": "code",
            "execution_count": 5,
            "source": [
                "df['Daily Log Rate of Return'] = np.log(df['Adj Close']/df['Adj Close'].shift(1))\n",
                "\n",
                "print(df['Daily Log Rate of Return'])"
            ],
            "outputs": [
                {
                    "output_type": "stream",
                    "name": "stdout",
                    "text": [
                        "0            NaN\n",
                        "1      -0.000398\n",
                        "2       0.009587\n",
                        "3       0.013238\n",
                        "4       0.008600\n",
                        "          ...   \n",
                        "1505    0.019407\n",
                        "1506    0.014611\n",
                        "1507    0.017796\n",
                        "1508   -0.009242\n",
                        "1509    0.012971\n",
                        "Name: Daily Log Rate of Return, Length: 1510, dtype: float64\n"
                    ]
                }
            ],
            "metadata": {}
        },
        {
            "cell_type": "code",
            "execution_count": 6,
            "source": [
                "stdev = np.std(df['Daily Log Rate of Return'])\n",
                "print(stdev)"
            ],
            "outputs": [
                {
                    "output_type": "stream",
                    "name": "stdout",
                    "text": [
                        "0.018864249893992737\n"
                    ]
                }
            ],
            "metadata": {}
        },
        {
            "cell_type": "code",
            "execution_count": 7,
            "source": [
                "plt.hist(df['Daily Log Rate of Return'].dropna())\n",
                "plt.title('Histogram of AAPL Daily Log Rates of Return')\n",
                "plt.xlabel('Log Rate of Return')\n",
                "plt.ylabel('Number of Days')\n",
                "plt.show()"
            ],
            "outputs": [
                {
                    "output_type": "display_data",
                    "data": {
                        "text/plain": [
                            "<Figure size 432x288 with 1 Axes>"
                        ],
                        "image/png": "[encoded data removed]"
                    },
                    "metadata": {
                        "needs_background": "light"
                    }
                }
            ],
            "metadata": {}
        }
    ],
    "metadata": {
        "orig_nbformat": 4,
        "language_info": {
            "name": "python"
        }
    },
    "nbformat": 4,
    "nbformat_minor": 2
}